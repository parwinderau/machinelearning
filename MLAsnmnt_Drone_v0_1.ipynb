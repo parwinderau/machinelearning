{
  "nbformat": 4,
  "nbformat_minor": 0,
  "metadata": {
    "colab": {
      "provenance": [],
      "include_colab_link": true
    },
    "kernelspec": {
      "name": "python3",
      "display_name": "Python 3"
    },
    "language_info": {
      "name": "python"
    }
  },
  "cells": [
    {
      "cell_type": "markdown",
      "metadata": {
        "id": "view-in-github",
        "colab_type": "text"
      },
      "source": [
        "<a href=\"https://colab.research.google.com/github/parwinderau/machinelearning/blob/main/MLAsnmnt_Drone_v0_1.ipynb\" target=\"_parent\"><img src=\"https://colab.research.google.com/assets/colab-badge.svg\" alt=\"Open In Colab\"/></a>"
      ]
    },
    {
      "cell_type": "code",
      "execution_count": 397,
      "metadata": {
        "colab": {
          "base_uri": "https://localhost:8080/"
        },
        "id": "kOPF3VNNCNVR",
        "outputId": "5a778ebd-c88c-48d6-b2dd-62f869ea3429"
      },
      "outputs": [
        {
          "output_type": "stream",
          "name": "stdout",
          "text": [
            "Model,L,W,H,P,V,S,,,,,,,,,,,,,,,,,,,,\n",
            "\n",
            "Perdix,155,300,60,1,2,30.56,,,,,,,,,,,,,,,,,,,,\n",
            "\n",
            "DynaWerks Gale,900,850,360,1,1,33.33,,,,,,,,,,,,,,,,,,,,\n",
            "\n",
            "TowHawk,680,860,200,1,2,18.06,,,,,,,,,,,,,,,,,,,,\n",
            "\n"
          ]
        }
      ],
      "source": [
        "data_file=\"./sample_data/Drone_Data_clndOutlier130.csv\"\n",
        "def load_data(file_name):\n",
        "  with open(file_name, 'r',encoding = \"utf-8\") as file:\n",
        "      for i in range(0,4):\n",
        "          print(file.readline())\n",
        "\n",
        "load_data(data_file)"
      ]
    },
    {
      "cell_type": "code",
      "source": [
        "import matplotlib.pyplot as plt\n",
        "import numpy as np\n",
        "import sklearn.linear_model\n",
        "\n",
        "print(\"If there are no errors, modules are load!\")"
      ],
      "metadata": {
        "colab": {
          "base_uri": "https://localhost:8080/"
        },
        "id": "K_Of0VfeCUuK",
        "outputId": "8f2ef5cc-8817-42ca-e33d-f3865f8f3458"
      },
      "execution_count": 398,
      "outputs": [
        {
          "output_type": "stream",
          "name": "stdout",
          "text": [
            "If there are no errors, modules are load!\n"
          ]
        }
      ]
    },
    {
      "cell_type": "code",
      "source": [
        "import pandas as pd\n",
        "\n",
        "# Here we upload the data from csv files using pandas\n",
        "# the comma separates the coloumns and we see the drone model in each line.\n",
        "dataFrame = pd.read_csv(data_file, delimiter=',', encoding='utf-8') \n",
        "dataFrame = dataFrame.loc[:, ~dataFrame.columns.str.contains('^Unnamed')]\n"
      ],
      "metadata": {
        "id": "tfZFXkLlCZYC"
      },
      "execution_count": 399,
      "outputs": []
    },
    {
      "cell_type": "code",
      "source": [
        "#Rename Columns\n",
        "#dataFrame=dataFrame.rename(columns={\"UAV_Model\":\"M\",\"Class\":\"C\",\"Propellers\": \"P\", \"V_Stabilizer_and_Winglets\": \"V\", \"Max speed, m/s\": \"S\"})"
      ],
      "metadata": {
        "id": "5RqpupFQ4bBW"
      },
      "execution_count": 400,
      "outputs": []
    },
    {
      "cell_type": "code",
      "source": [
        "# Now we want to separate those from the dataset\n",
        "from sklearn import preprocessing\n",
        "df = dataFrame[[\"L\",\"W\", \"H\", \"P\", \"S\"]]\n",
        "\n",
        "\n"
      ],
      "metadata": {
        "id": "MioP7VCIDi1L"
      },
      "execution_count": 401,
      "outputs": []
    },
    {
      "cell_type": "code",
      "source": [
        "class Outlier:\n",
        "    #Declare the static variables\n",
        "    drop=False\n",
        "    #Declaring a constructor, taking length and colour as a parameter\n",
        "    def __init__(self, drop):\n",
        "        self.drop = drop\n",
        "        #print('Block of ' +colour +' colour is manufactured.')\n"
      ],
      "metadata": {
        "id": "gz2_3j8nTS7o"
      },
      "execution_count": 402,
      "outputs": []
    },
    {
      "cell_type": "code",
      "source": [
        "\n",
        "#Print Count of null values for each coloumn \n",
        "print(df.isnull().sum())"
      ],
      "metadata": {
        "colab": {
          "base_uri": "https://localhost:8080/"
        },
        "id": "tR76DIwKePBk",
        "outputId": "e20a81f2-371c-4ddc-8a7a-242a1f94da5f"
      },
      "execution_count": 403,
      "outputs": [
        {
          "output_type": "stream",
          "name": "stdout",
          "text": [
            "L    963\n",
            "W    963\n",
            "H    978\n",
            "P    963\n",
            "S    963\n",
            "dtype: int64\n"
          ]
        }
      ]
    },
    {
      "cell_type": "code",
      "source": [
        "\n",
        "# drop all rows with any NaN and NaT values\n",
        "df = df.dropna()\n",
        "print(df.isnull().sum())"
      ],
      "metadata": {
        "colab": {
          "base_uri": "https://localhost:8080/"
        },
        "id": "T50yTqQ7ePRx",
        "outputId": "e8b27edb-4c97-435d-bae6-5dc14112a689"
      },
      "execution_count": 404,
      "outputs": [
        {
          "output_type": "stream",
          "name": "stdout",
          "text": [
            "L    0\n",
            "W    0\n",
            "H    0\n",
            "P    0\n",
            "S    0\n",
            "dtype: int64\n"
          ]
        }
      ]
    },
    {
      "cell_type": "code",
      "source": [
        "# Now we need to order the data according to the growing score\n",
        "df_sorted = df.sort_values(by=[\"S\"],ascending=True)\n",
        "#https://stackabuse.com/linear-regression-in-python-with-scikit-learn/\n",
        "\n",
        "df_sorted.dropna(\n",
        "    axis=0,\n",
        "    how='any',\n",
        "    thresh=None,\n",
        "    subset=None,\n",
        "    inplace=True\n",
        ")\n",
        "#Tell you number of rows and columns in your data\n",
        "df_sorted.shape\n"
      ],
      "metadata": {
        "colab": {
          "base_uri": "https://localhost:8080/"
        },
        "id": "a_fKINKoFKsv",
        "outputId": "2e422b35-8c36-4e5d-ee2b-011a909ae6ce"
      },
      "execution_count": 405,
      "outputs": [
        {
          "output_type": "execute_result",
          "data": {
            "text/plain": [
              "(120, 5)"
            ]
          },
          "metadata": {},
          "execution_count": 405
        }
      ]
    },
    {
      "cell_type": "code",
      "source": [
        "#correlation among fields/columns\n",
        "print(df_sorted.corr())"
      ],
      "metadata": {
        "colab": {
          "base_uri": "https://localhost:8080/"
        },
        "id": "svxNDfss5Hae",
        "outputId": "7e25c501-4636-407a-895c-5c41ca1f67e4"
      },
      "execution_count": 406,
      "outputs": [
        {
          "output_type": "stream",
          "name": "stdout",
          "text": [
            "          L         W         H         P         S\n",
            "L  1.000000  0.917307  0.822889  0.074465  0.605860\n",
            "W  0.917307  1.000000  0.815332  0.049866  0.599037\n",
            "H  0.822889  0.815332  1.000000  0.025514  0.570533\n",
            "P  0.074465  0.049866  0.025514  1.000000  0.065805\n",
            "S  0.605860  0.599037  0.570533  0.065805  1.000000\n"
          ]
        }
      ]
    },
    {
      "cell_type": "code",
      "source": [
        "\n",
        "\n",
        "df_normalized=df_sorted\n",
        "#df_normalized.head()"
      ],
      "metadata": {
        "id": "1fNGTXFf33lN"
      },
      "execution_count": 407,
      "outputs": []
    },
    {
      "cell_type": "code",
      "source": [
        "#print(df_normalized.head(38))"
      ],
      "metadata": {
        "id": "LOFYqZ4FzwPM"
      },
      "execution_count": 408,
      "outputs": []
    },
    {
      "cell_type": "code",
      "source": [
        "#print(df_normalized.describe())"
      ],
      "metadata": {
        "id": "b9M02OC6Jp8G"
      },
      "execution_count": 409,
      "outputs": []
    },
    {
      "cell_type": "code",
      "source": [
        "import seaborn as sns\n",
        "#Outlier for specific column\n",
        "def outlierPlot(df, columnName, state):\n",
        "  sns.boxplot(df[columnName])\n",
        "  plt.title(columnName+\":\"+state)\n",
        "  plt.show()\n",
        "'''\n",
        "for column in df_normalized:\n",
        "    outlierPlot(df_normalized,column)\n",
        "'''"
      ],
      "metadata": {
        "colab": {
          "base_uri": "https://localhost:8080/",
          "height": 35
        },
        "id": "yGbgrfa0CiIt",
        "outputId": "8050201a-a74d-41be-cf3b-41072d937a09"
      },
      "execution_count": 410,
      "outputs": [
        {
          "output_type": "execute_result",
          "data": {
            "text/plain": [
              "'\\nfor column in df_normalized:\\n    outlierPlot(df_normalized,column)\\n'"
            ],
            "application/vnd.google.colaboratory.intrinsic+json": {
              "type": "string"
            }
          },
          "metadata": {},
          "execution_count": 410
        }
      ]
    },
    {
      "cell_type": "code",
      "source": [
        "def colLogTransformation(df, colName):\n",
        "  col_to_transform=df[colName]\n",
        "  sns.distplot(col_to_transform)\n",
        "  plt.title(\"Before log Transformation for Column:\"+ colName)\n",
        "  sns.despine()\n",
        "  plt.show()\n",
        "  col_to_transform=np.log(col_to_transform)\n",
        "  sns.distplot(col_to_transform)\n",
        "  plt.title(\"After log Transformation for Column:\"+colName)\n",
        "  sns.despine()\n",
        "  plt.show()\n",
        "  df_normalized[colName]=col_to_transform\n",
        "\n",
        "colLogTransformation(df_normalized,\"W\")\n",
        "colLogTransformation(df_normalized,\"H\")\n",
        "colLogTransformation(df_normalized,\"S\")\n",
        "#for column in df_normalized:\n",
        "#    colLogTransformation(df_normalized,column)\n"
      ],
      "metadata": {
        "colab": {
          "base_uri": "https://localhost:8080/",
          "height": 1000
        },
        "id": "3QrkoaMUFegz",
        "outputId": "13bab981-d5fb-4424-8089-283a59493c54"
      },
      "execution_count": 411,
      "outputs": [
        {
          "output_type": "stream",
          "name": "stderr",
          "text": [
            "/usr/local/lib/python3.8/dist-packages/seaborn/distributions.py:2619: FutureWarning: `distplot` is a deprecated function and will be removed in a future version. Please adapt your code to use either `displot` (a figure-level function with similar flexibility) or `histplot` (an axes-level function for histograms).\n",
            "  warnings.warn(msg, FutureWarning)\n"
          ]
        },
        {
          "output_type": "display_data",
          "data": {
            "text/plain": [
              "<Figure size 432x288 with 1 Axes>"
            ],
            "image/png": "[encoded data removed]"
          },
          "metadata": {
            "needs_background": "light"
          }
        },
        {
          "output_type": "stream",
          "name": "stderr",
          "text": [
            "/usr/local/lib/python3.8/dist-packages/seaborn/distributions.py:2619: FutureWarning: `distplot` is a deprecated function and will be removed in a future version. Please adapt your code to use either `displot` (a figure-level function with similar flexibility) or `histplot` (an axes-level function for histograms).\n",
            "  warnings.warn(msg, FutureWarning)\n"
          ]
        },
        {
          "output_type": "display_data",
          "data": {
            "text/plain": [
              "<Figure size 432x288 with 1 Axes>"
            ],
            "image/png": "[encoded data removed]"
          },
          "metadata": {
            "needs_background": "light"
          }
        },
        {
          "output_type": "stream",
          "name": "stderr",
          "text": [
            "/usr/local/lib/python3.8/dist-packages/seaborn/distributions.py:2619: FutureWarning: `distplot` is a deprecated function and will be removed in a future version. Please adapt your code to use either `displot` (a figure-level function with similar flexibility) or `histplot` (an axes-level function for histograms).\n",
            "  warnings.warn(msg, FutureWarning)\n"
          ]
        },
        {
          "output_type": "display_data",
          "data": {
            "text/plain": [
              "<Figure size 432x288 with 1 Axes>"
            ],
            "image/png": "[encoded data removed]"
          },
          "metadata": {
            "needs_background": "light"
          }
        },
        {
          "output_type": "stream",
          "name": "stderr",
          "text": [
            "/usr/local/lib/python3.8/dist-packages/seaborn/distributions.py:2619: FutureWarning: `distplot` is a deprecated function and will be removed in a future version. Please adapt your code to use either `displot` (a figure-level function with similar flexibility) or `histplot` (an axes-level function for histograms).\n",
            "  warnings.warn(msg, FutureWarning)\n"
          ]
        },
        {
          "output_type": "display_data",
          "data": {
            "text/plain": [
              "<Figure size 432x288 with 1 Axes>"
            ],
            "image/png": "[encoded data removed]"
          },
          "metadata": {
            "needs_background": "light"
          }
        },
        {
          "output_type": "stream",
          "name": "stderr",
          "text": [
            "/usr/local/lib/python3.8/dist-packages/seaborn/distributions.py:2619: FutureWarning: `distplot` is a deprecated function and will be removed in a future version. Please adapt your code to use either `displot` (a figure-level function with similar flexibility) or `histplot` (an axes-level function for histograms).\n",
            "  warnings.warn(msg, FutureWarning)\n"
          ]
        },
        {
          "output_type": "display_data",
          "data": {
            "text/plain": [
              "<Figure size 432x288 with 1 Axes>"
            ],
            "image/png": "[encoded data removed]"
          },
          "metadata": {
            "needs_background": "light"
          }
        },
        {
          "output_type": "stream",
          "name": "stderr",
          "text": [
            "/usr/local/lib/python3.8/dist-packages/seaborn/distributions.py:2619: FutureWarning: `distplot` is a deprecated function and will be removed in a future version. Please adapt your code to use either `displot` (a figure-level function with similar flexibility) or `histplot` (an axes-level function for histograms).\n",
            "  warnings.warn(msg, FutureWarning)\n"
          ]
        },
        {
          "output_type": "display_data",
          "data": {
            "text/plain": [
              "<Figure size 432x288 with 1 Axes>"
            ],
            "image/png": "[encoded data removed]"
          },
          "metadata": {
            "needs_background": "light"
          }
        }
      ]
    },
    {
      "cell_type": "code",
      "source": [
        "#Remove Outliers..run only once\n",
        "def drop_outliers(df, colName):\n",
        "  iqr=1.5*(np.percentile(df[colName],75) - np.percentile(df[colName],25))\n",
        "  df.drop(df[df[colName] > (iqr+np.percentile(df[colName],75))].index, inplace=True)\n",
        "  df.drop(df[df[colName] < (np.percentile(df[colName],25)-iqr)].index, inplace=True)\n",
        "  Outlier.drop=True\n",
        "\n",
        "#See data for outliers  \n",
        "for column in df_normalized:\n",
        "    outlierPlot(df_normalized,column,\"Before droping of outlier\")\n",
        "print(\"No. of rows Before\", df_normalized.shape[0])\n",
        "drop_outliers(df_normalized,'H')\n",
        "drop_outliers(df_normalized,'W')\n",
        "\n",
        "\n",
        "#See data for outliers  \n",
        "for column in df_normalized:\n",
        "    outlierPlot(df_normalized,column,\"After droping of outlier\")\n",
        "print(\"No. of rows After\", df_normalized.shape[0])"
      ],
      "metadata": {
        "colab": {
          "base_uri": "https://localhost:8080/",
          "height": 1000
        },
        "id": "EDMnLX6AL53Z",
        "outputId": "732acf92-4119-4edc-c71f-8d15b0d2479c"
      },
      "execution_count": 412,
      "outputs": [
        {
          "output_type": "stream",
          "name": "stderr",
          "text": [
            "/usr/local/lib/python3.8/dist-packages/seaborn/_decorators.py:36: FutureWarning: Pass the following variable as a keyword arg: x. From version 0.12, the only valid positional argument will be `data`, and passing other arguments without an explicit keyword will result in an error or misinterpretation.\n",
            "  warnings.warn(\n"
          ]
        },
        {
          "output_type": "display_data",
          "data": {
            "text/plain": [
              "<Figure size 432x288 with 1 Axes>"
            ],
            "image/png": "[encoded data removed]"
          },
          "metadata": {
            "needs_background": "light"
          }
        },
        {
          "output_type": "stream",
          "name": "stderr",
          "text": [
            "/usr/local/lib/python3.8/dist-packages/seaborn/_decorators.py:36: FutureWarning: Pass the following variable as a keyword arg: x. From version 0.12, the only valid positional argument will be `data`, and passing other arguments without an explicit keyword will result in an error or misinterpretation.\n",
            "  warnings.warn(\n"
          ]
        },
        {
          "output_type": "display_data",
          "data": {
            "text/plain": [
              "<Figure size 432x288 with 1 Axes>"
            ],
            "image/png": "[encoded data removed]"
          },
          "metadata": {
            "needs_background": "light"
          }
        },
        {
          "output_type": "stream",
          "name": "stderr",
          "text": [
            "/usr/local/lib/python3.8/dist-packages/seaborn/_decorators.py:36: FutureWarning: Pass the following variable as a keyword arg: x. From version 0.12, the only valid positional argument will be `data`, and passing other arguments without an explicit keyword will result in an error or misinterpretation.\n",
            "  warnings.warn(\n"
          ]
        },
        {
          "output_type": "display_data",
          "data": {
            "text/plain": [
              "<Figure size 432x288 with 1 Axes>"
            ],
            "image/png": "[encoded data removed]"
          },
          "metadata": {
            "needs_background": "light"
          }
        },
        {
          "output_type": "stream",
          "name": "stderr",
          "text": [
            "/usr/local/lib/python3.8/dist-packages/seaborn/_decorators.py:36: FutureWarning: Pass the following variable as a keyword arg: x. From version 0.12, the only valid positional argument will be `data`, and passing other arguments without an explicit keyword will result in an error or misinterpretation.\n",
            "  warnings.warn(\n"
          ]
        },
        {
          "output_type": "display_data",
          "data": {
            "text/plain": [
              "<Figure size 432x288 with 1 Axes>"
            ],
            "image/png": "[encoded data removed]"
          },
          "metadata": {
            "needs_background": "light"
          }
        },
        {
          "output_type": "stream",
          "name": "stderr",
          "text": [
            "/usr/local/lib/python3.8/dist-packages/seaborn/_decorators.py:36: FutureWarning: Pass the following variable as a keyword arg: x. From version 0.12, the only valid positional argument will be `data`, and passing other arguments without an explicit keyword will result in an error or misinterpretation.\n",
            "  warnings.warn(\n"
          ]
        },
        {
          "output_type": "display_data",
          "data": {
            "text/plain": [
              "<Figure size 432x288 with 1 Axes>"
            ],
            "image/png": "[encoded data removed]"
          },
          "metadata": {
            "needs_background": "light"
          }
        },
        {
          "output_type": "stream",
          "name": "stderr",
          "text": [
            "/usr/local/lib/python3.8/dist-packages/seaborn/_decorators.py:36: FutureWarning: Pass the following variable as a keyword arg: x. From version 0.12, the only valid positional argument will be `data`, and passing other arguments without an explicit keyword will result in an error or misinterpretation.\n",
            "  warnings.warn(\n"
          ]
        },
        {
          "output_type": "stream",
          "name": "stdout",
          "text": [
            "No. of rows Before 120\n"
          ]
        },
        {
          "output_type": "display_data",
          "data": {
            "text/plain": [
              "<Figure size 432x288 with 1 Axes>"
            ],
            "image/png": "[encoded data removed]"
          },
          "metadata": {
            "needs_background": "light"
          }
        },
        {
          "output_type": "stream",
          "name": "stderr",
          "text": [
            "/usr/local/lib/python3.8/dist-packages/seaborn/_decorators.py:36: FutureWarning: Pass the following variable as a keyword arg: x. From version 0.12, the only valid positional argument will be `data`, and passing other arguments without an explicit keyword will result in an error or misinterpretation.\n",
            "  warnings.warn(\n"
          ]
        },
        {
          "output_type": "display_data",
          "data": {
            "text/plain": [
              "<Figure size 432x288 with 1 Axes>"
            ],
            "image/png": "[encoded data removed]"
          },
          "metadata": {
            "needs_background": "light"
          }
        },
        {
          "output_type": "stream",
          "name": "stderr",
          "text": [
            "/usr/local/lib/python3.8/dist-packages/seaborn/_decorators.py:36: FutureWarning: Pass the following variable as a keyword arg: x. From version 0.12, the only valid positional argument will be `data`, and passing other arguments without an explicit keyword will result in an error or misinterpretation.\n",
            "  warnings.warn(\n"
          ]
        },
        {
          "output_type": "display_data",
          "data": {
            "text/plain": [
              "<Figure size 432x288 with 1 Axes>"
            ],
            "image/png": "[encoded data removed]"
          },
          "metadata": {
            "needs_background": "light"
          }
        },
        {
          "output_type": "stream",
          "name": "stderr",
          "text": [
            "/usr/local/lib/python3.8/dist-packages/seaborn/_decorators.py:36: FutureWarning: Pass the following variable as a keyword arg: x. From version 0.12, the only valid positional argument will be `data`, and passing other arguments without an explicit keyword will result in an error or misinterpretation.\n",
            "  warnings.warn(\n"
          ]
        },
        {
          "output_type": "display_data",
          "data": {
            "text/plain": [
              "<Figure size 432x288 with 1 Axes>"
            ],
            "image/png": "[encoded data removed]"
          },
          "metadata": {
            "needs_background": "light"
          }
        },
        {
          "output_type": "stream",
          "name": "stderr",
          "text": [
            "/usr/local/lib/python3.8/dist-packages/seaborn/_decorators.py:36: FutureWarning: Pass the following variable as a keyword arg: x. From version 0.12, the only valid positional argument will be `data`, and passing other arguments without an explicit keyword will result in an error or misinterpretation.\n",
            "  warnings.warn(\n"
          ]
        },
        {
          "output_type": "display_data",
          "data": {
            "text/plain": [
              "<Figure size 432x288 with 1 Axes>"
            ],
            "image/png": "[encoded data removed]"
          },
          "metadata": {
            "needs_background": "light"
          }
        },
        {
          "output_type": "stream",
          "name": "stdout",
          "text": [
            "No. of rows After 117\n"
          ]
        }
      ]
    },
    {
      "cell_type": "code",
      "source": [
        "#Multiple linear Regressor\n",
        "#https://www.analyticsvidhya.com/blog/2021/05/multiple-linear-regression-using-python-and-scikit-learn/\n",
        "\n",
        "\n",
        "#df_normalized.hist(bins=50, figsize=(20,15))\n",
        "#save_fig('histograms')\n",
        "'''\n",
        "plt.figure()\n",
        "plt.plot(df_normalized['L'],'.', label='L')\n",
        "plt.plot(df_normalized['W'],'.', label='W')\n",
        "plt.plot(df_normalized['H'],'.', label='H')\n",
        "plt.plot(df_normalized['H'],'.', label='S')\n",
        "plt.legend()\n",
        "plt.show()\n",
        "'''"
      ],
      "metadata": {
        "id": "-NflgJ2WK0wR",
        "colab": {
          "base_uri": "https://localhost:8080/",
          "height": 70
        },
        "outputId": "254abc18-c46a-476b-c552-a27fdd8deced"
      },
      "execution_count": 413,
      "outputs": [
        {
          "output_type": "execute_result",
          "data": {
            "text/plain": [
              "\"\\nplt.figure()\\nplt.plot(df_normalized['L'],'.', label='L')\\nplt.plot(df_normalized['W'],'.', label='W')\\nplt.plot(df_normalized['H'],'.', label='H')\\nplt.plot(df_normalized['H'],'.', label='S')\\nplt.legend()\\nplt.show()\\n\""
            ],
            "application/vnd.google.colaboratory.intrinsic+json": {
              "type": "string"
            }
          },
          "metadata": {},
          "execution_count": 413
        }
      ]
    },
    {
      "cell_type": "code",
      "source": [
        "np.random.seed(42)\n",
        "from sklearn.model_selection import train_test_split\n",
        "'''\n",
        "d= df_normalized.drop(columns = 'H')\n",
        "d=preprocessing.normalize(d)\n",
        "X=pd.DataFrame(d, columns=[\"L\", \"W\"])\n",
        "'''\n",
        "X= df_normalized.drop(columns = ['L','S'])\n",
        "y=df_normalized['S']\n",
        "print(\"Total X vs Total Y records: \",X.shape, y.shape)\n",
        "X_train, X_test,y_train,y_test = train_test_split(X,y, test_size=0.2, random_state=42)\n",
        "print (X_train.shape,X_test.shape, y_train.shape, y_test.shape )\n",
        "#test_set.head()"
      ],
      "metadata": {
        "id": "dZqeyZjtMg7a",
        "colab": {
          "base_uri": "https://localhost:8080/"
        },
        "outputId": "15203864-d245-40d3-b9c3-0cbf9de64310"
      },
      "execution_count": 414,
      "outputs": [
        {
          "output_type": "stream",
          "name": "stdout",
          "text": [
            "Total X vs Total Y records:  (117, 3) (117,)\n",
            "(93, 3) (24, 3) (93,) (24,)\n"
          ]
        }
      ]
    },
    {
      "cell_type": "code",
      "source": [
        "y.head(11)"
      ],
      "metadata": {
        "colab": {
          "base_uri": "https://localhost:8080/"
        },
        "id": "cb_nkhdS9le0",
        "outputId": "56f8f38e-3a62-4eab-c856-5501e3c190e3"
      },
      "execution_count": 415,
      "outputs": [
        {
          "output_type": "execute_result",
          "data": {
            "text/plain": [
              "14    2.813611\n",
              "11    3.036394\n",
              "64    3.100993\n",
              "39    3.100993\n",
              "24    3.100993\n",
              "41    3.161670\n",
              "16    3.161670\n",
              "10    3.218876\n",
              "17    3.218876\n",
              "54    3.218876\n",
              "5     3.241029\n",
              "Name: S, dtype: float64"
            ]
          },
          "metadata": {},
          "execution_count": 415
        }
      ]
    },
    {
      "cell_type": "code",
      "source": [
        "\n",
        "d_names = (X_train, y_test)\n",
        "y_pos = range(len(d_names))\n",
        "plt.bar(\n",
        "    y_pos, \n",
        "    (X_train.shape[0], y_test.shape[0]), \n",
        "    align='center', \n",
        "    alpha=0.8\n",
        ")\n",
        "\n",
        "plt.ylabel('Number of rows') \n",
        "plt.title('😱 Train Vs Test Samples!')\n",
        "plt.show()\n"
      ],
      "metadata": {
        "colab": {
          "base_uri": "https://localhost:8080/",
          "height": 281
        },
        "id": "prCy342b8vnX",
        "outputId": "a167a06f-be18-49c7-df50-6d90f2306aac"
      },
      "execution_count": 416,
      "outputs": [
        {
          "output_type": "display_data",
          "data": {
            "text/plain": [
              "<Figure size 432x288 with 1 Axes>"
            ],
            "image/png": "[encoded data removed]"
          },
          "metadata": {
            "needs_background": "light"
          }
        }
      ]
    },
    {
      "cell_type": "code",
      "source": [
        "from sklearn.preprocessing import StandardScaler\n",
        "scaler = StandardScaler()\n",
        "X_train_scaled = scaler.fit_transform(X_train)\n",
        "X_test_scaled = scaler.transform(X_test)\n",
        "#X_train_scaled = X_train\n",
        "#X_test_scaled = X_test\n",
        "#df_prepared = full_pipeline.fit_transform(df_lw)\n",
        "#label_prepared = full_pipeline.transform(df_h_label) \n",
        "#df_prepared\n",
        "X_test_scaled"
      ],
      "metadata": {
        "colab": {
          "base_uri": "https://localhost:8080/"
        },
        "id": "ZSla9FLInQti",
        "outputId": "7ec048d0-a5e4-42bf-8b38-961ba0d12d7e"
      },
      "execution_count": 417,
      "outputs": [
        {
          "output_type": "execute_result",
          "data": {
            "text/plain": [
              "array([[-4.48579946e-01, -7.11036523e-01, -3.43203236e-01],\n",
              "       [-8.71199259e-01, -8.79461388e-01, -3.43203236e-01],\n",
              "       [ 3.66955776e-01,  5.67086035e-01, -3.43203236e-01],\n",
              "       [-6.56702272e-01,  3.57449136e-01, -3.43203236e-01],\n",
              "       [-1.97730260e+00, -1.55154712e+00, -3.43203236e-01],\n",
              "       [-2.22298943e-01,  1.81478298e-01, -3.43203236e-01],\n",
              "       [-2.47434518e-02,  5.00564338e-01, -3.43203236e-01],\n",
              "       [-1.10508419e+00, -7.92339797e-02, -3.43203236e-01],\n",
              "       [-5.85968218e-01, -5.04291352e-01, -3.43203236e-01],\n",
              "       [-9.63295375e-01, -8.79461388e-01, -3.43203236e-01],\n",
              "       [ 1.01915506e-03,  2.80135248e-01, -3.43203236e-01],\n",
              "       [-6.56702272e-01, -7.92339797e-02, -3.43203236e-01],\n",
              "       [ 2.11727191e+00,  1.40759663e+00, -3.43203236e-01],\n",
              "       [ 2.16078784e+00,  1.46423606e+00, -3.43203236e-01],\n",
              "       [-1.52892069e+00, -1.29083484e+00, -3.43203236e-01],\n",
              "       [-1.19679313e+00, -1.87063316e+00, -3.43203236e-01],\n",
              "       [-8.33336614e-01, -2.99663070e-01, -3.43203236e-01],\n",
              "       [ 1.71939041e+00, -3.89507920e-02, -3.43203236e-01],\n",
              "       [ 1.23917419e+00,  1.27130702e+00, -3.43203236e-01],\n",
              "       [ 6.79721569e-01,  6.91508702e-01, -3.43203236e-01],\n",
              "       [-5.23407222e-01, -8.79461388e-01, -3.43203236e-01],\n",
              "       [ 1.18035203e+00,  7.15144919e-01, -3.43203236e-01],\n",
              "       [ 2.24347047e+00,  1.49173611e+00, -3.43203236e-01],\n",
              "       [-5.49169829e-01, -1.19854743e+00, -3.43203236e-01]])"
            ]
          },
          "metadata": {},
          "execution_count": 417
        }
      ]
    },
    {
      "cell_type": "code",
      "source": [
        "\n",
        "from sklearn.ensemble import RandomForestRegressor\n",
        "from sklearn.linear_model import LogisticRegression\n",
        "from sklearn.linear_model import LinearRegression\n",
        "#reg = LogisticRegression(random_state=42)\n",
        "#reg = RandomForestRegressor(n_estimators=7, random_state=42)\n",
        "#reg = SVR(kernel=\"linear\")\n",
        "reg = LinearRegression()\n",
        "reg.fit(X_train_scaled,y_train)\n"
      ],
      "metadata": {
        "colab": {
          "base_uri": "https://localhost:8080/"
        },
        "id": "J2fvtAD-N5hs",
        "outputId": "dbe69a1e-1c43-4427-dd28-f30e9f941919"
      },
      "execution_count": 418,
      "outputs": [
        {
          "output_type": "execute_result",
          "data": {
            "text/plain": [
              "LinearRegression()"
            ]
          },
          "metadata": {},
          "execution_count": 418
        }
      ]
    },
    {
      "cell_type": "code",
      "source": [
        "reg.predict(X_train_scaled)\n"
      ],
      "metadata": {
        "colab": {
          "base_uri": "https://localhost:8080/"
        },
        "id": "DJzZUN5kf38y",
        "outputId": "f30e02f3-dd67-4ecd-e8b4-577e40a55ef6"
      },
      "execution_count": 419,
      "outputs": [
        {
          "output_type": "execute_result",
          "data": {
            "text/plain": [
              "array([3.60397271, 3.78291894, 3.4303751 , 3.64967896, 3.81466531,\n",
              "       3.62473351, 4.1263659 , 3.8944822 , 3.77172796, 3.38812038,\n",
              "       4.0931227 , 3.88633638, 3.63010632, 3.83417031, 4.19202562,\n",
              "       3.81636692, 3.74942392, 3.87008778, 3.55605643, 3.63808099,\n",
              "       4.08300539, 3.52715454, 3.59371983, 3.64353476, 3.65289941,\n",
              "       3.8337605 , 3.84452293, 3.83477012, 3.42561412, 3.99909356,\n",
              "       3.61140334, 3.7432296 , 3.73064231, 3.61079514, 3.83040719,\n",
              "       3.84691346, 3.70918873, 3.49318865, 3.8826529 , 3.78207225,\n",
              "       3.63098557, 4.01723803, 3.58820699, 3.68384672, 3.80221203,\n",
              "       3.88140582, 3.49318865, 3.64921198, 3.75024213, 3.85294567,\n",
              "       4.08298402, 3.88016926, 3.31742998, 3.60534727, 4.02785648,\n",
              "       3.7131042 , 4.03666916, 4.07313937, 4.17015295, 3.64254597,\n",
              "       3.66588406, 3.77227772, 4.00180414, 3.53639818, 3.74515532,\n",
              "       3.84851971, 4.02267213, 3.65300657, 3.58333698, 4.10867087,\n",
              "       3.41157385, 3.63328291, 4.12740012, 3.45688547, 3.68950025,\n",
              "       3.41793545, 3.66552765, 3.47792543, 3.81636178, 3.91534997,\n",
              "       3.64822422, 3.55460965, 3.90163728, 3.75809656, 3.63776203,\n",
              "       3.72343022, 3.61619998, 3.66137321, 3.70592945, 3.56358393,\n",
              "       3.75261479, 3.79383744, 3.71194446])"
            ]
          },
          "metadata": {},
          "execution_count": 419
        }
      ]
    },
    {
      "cell_type": "code",
      "source": [
        "print(\"Train Score:\",reg.score(X_train_scaled,y_train))\n",
        "print(\"Test Score:\",reg.score(X_test_scaled,y_test))\n"
      ],
      "metadata": {
        "colab": {
          "base_uri": "https://localhost:8080/"
        },
        "id": "tt1zfsmNf7Ox",
        "outputId": "2bcaaf77-d43b-4cb8-b8c4-fc567a7a3070"
      },
      "execution_count": 420,
      "outputs": [
        {
          "output_type": "stream",
          "name": "stdout",
          "text": [
            "Train Score: 0.32321335456196476\n",
            "Test Score: 0.5944750953100664\n"
          ]
        }
      ]
    },
    {
      "cell_type": "code",
      "source": [],
      "metadata": {
        "id": "uE9AAdYEgLeh"
      },
      "execution_count": 420,
      "outputs": []
    },
    {
      "cell_type": "code",
      "source": [
        "#value wise prediction\n",
        "some_data = X_train.iloc[:5]\n",
        "some_labels = y_train.iloc[:5]\n",
        "# Part of the dataset (not used for training) is used to build for the prediction\n",
        "some_data_prepared = scaler.transform(some_data)\n",
        "\n",
        "print(\"Predictions:\", reg.predict(some_data_prepared))\n",
        "print(\"Labels:\", list(some_labels))"
      ],
      "metadata": {
        "colab": {
          "base_uri": "https://localhost:8080/"
        },
        "id": "vsnCxF6FoWPS",
        "outputId": "9681f8a9-8a2c-4dd5-8ff0-964cb8853ade"
      },
      "execution_count": 421,
      "outputs": [
        {
          "output_type": "stream",
          "name": "stdout",
          "text": [
            "Predictions: [3.60397271 3.78291894 3.4303751  3.64967896 3.81466531]\n",
            "Labels: [3.3243163373261977, 3.8548175316573667, 3.506457892319648, 3.4196919642983197, 3.7297814454343623]\n"
          ]
        }
      ]
    },
    {
      "cell_type": "code",
      "source": [
        "test_data = X_test\n",
        "test_labels = y_test\n",
        "test_data_prepared = scaler.transform(test_data)\n",
        "test_data_predictions=reg.predict(test_data_prepared)\n",
        "print(\"Predictions:\", test_data_predictions)\n",
        "print(\"Labels:\", list(test_labels))\n",
        "#reg.score(test_data_prepared,test_labels)"
      ],
      "metadata": {
        "colab": {
          "base_uri": "https://localhost:8080/"
        },
        "id": "x9PsMSmN0Bqs",
        "outputId": "a6f15a06-288d-405b-e8a6-71e536153574"
      },
      "execution_count": 422,
      "outputs": [
        {
          "output_type": "stream",
          "name": "stdout",
          "text": [
            "Predictions: [3.63010632 3.56482821 3.83477012 3.6930296  3.37488296 3.73130438\n",
            " 3.78166437 3.6024706  3.63047634 3.55363341 3.76659577 3.65697396\n",
            " 4.11692943 4.12689558 3.45091256 3.4434123  3.61730287 3.94912751\n",
            " 3.99893865 3.88306178 3.6071043  3.94586782 4.13921672 3.57762671]\n",
            "Labels: [3.660737148167656, 3.100992784211484, 3.7297814454343623, 3.660737148167656, 3.241028629509334, 3.9394436010041383, 3.883829271057364, 4.017463517886143, 3.506457892319648, 3.3243163373261977, 3.5473158897921495, 3.506457892319648, 4.041998081849892, 4.240463070352095, 3.3243163373261977, 2.813610696762703, 3.7941399647714293, 4.409398581469732, 3.912023005428146, 4.157162854614252, 3.8370839187636525, 4.017463517886143, 4.455625548708074, 3.3243163373261977]\n"
          ]
        }
      ]
    },
    {
      "cell_type": "code",
      "source": [],
      "metadata": {
        "id": "yH5rftal0y3H"
      },
      "execution_count": 422,
      "outputs": []
    },
    {
      "cell_type": "markdown",
      "source": [],
      "metadata": {
        "id": "Dm1VgbfSetIO"
      }
    },
    {
      "cell_type": "code",
      "source": [
        "y_train"
      ],
      "metadata": {
        "colab": {
          "base_uri": "https://localhost:8080/"
        },
        "id": "vIvL3CiQzK2S",
        "outputId": "bfc60f51-4c83-41b1-9df4-70d70b754c40"
      },
      "execution_count": 423,
      "outputs": [
        {
          "output_type": "execute_result",
          "data": {
            "text/plain": [
              "37    3.324316\n",
              "84    3.854818\n",
              "3     3.506458\n",
              "63    3.419692\n",
              "85    3.729781\n",
              "        ...   \n",
              "43    4.240463\n",
              "34    3.324316\n",
              "62    4.017464\n",
              "87    3.729781\n",
              "50    4.199755\n",
              "Name: S, Length: 93, dtype: float64"
            ]
          },
          "metadata": {},
          "execution_count": 423
        }
      ]
    },
    {
      "cell_type": "code",
      "source": [
        "from sklearn.metrics import mean_squared_error\n",
        "from sklearn.metrics import mean_absolute_error\n",
        "from sklearn.metrics import mean_absolute_percentage_error\n",
        "df_predictions = reg.predict(X_train_scaled)\n",
        "print(\"Count of Values equals in Prediction Column=\",(df_predictions == 0).sum())\n",
        "mse = mean_squared_error(y_train, df_predictions)\n",
        "rmse = np.sqrt(mse)\n",
        "mae = mean_absolute_error(y_train, df_predictions)\n",
        "mape = mean_absolute_percentage_error(y_train, df_predictions)\n",
        "#print('My name is', os.getlogin(), 'and I am', 42)\n",
        "print ('MSE:',mse ,'RMSE:', rmse, 'and MAE:', mae, 'and MAPE:', mape) "
      ],
      "metadata": {
        "id": "zoGGKOUWOh9n",
        "colab": {
          "base_uri": "https://localhost:8080/"
        },
        "outputId": "09b7184c-9a27-48a9-fff9-4452eb02e8fe"
      },
      "execution_count": 424,
      "outputs": [
        {
          "output_type": "stream",
          "name": "stdout",
          "text": [
            "Count of Values equals in Prediction Column= 0\n",
            "MSE: 0.07924822550431085 RMSE: 0.28151061348430695 and MAE: 0.23391092432810676 and MAPE: 0.06311544632167077\n"
          ]
        }
      ]
    },
    {
      "cell_type": "code",
      "source": [
        "def display_scores(scores):\n",
        "    #print(\"Scores:\", scores)\n",
        "    print (\"{:<8} {:<15}\".format('Mean','StandardDeviation'))\n",
        "    print (\"{:<8} {:<15}\".format(scores.mean(), scores.std()))\n",
        "    \n",
        "from sklearn.model_selection import cross_val_score\n",
        "from sklearn.metrics import mean_squared_error\n",
        "from sklearn.metrics import mean_absolute_error\n",
        "from sklearn.metrics import mean_absolute_percentage_error\n",
        "\n",
        "#print ('==================Error Validation=====================================') \n",
        "mse = mean_squared_error(test_labels, test_data_predictions)\n",
        "rmse = np.sqrt(mse)\n",
        "mae = mean_absolute_error(test_labels, test_data_predictions)\n",
        "mape = mean_absolute_percentage_error(test_labels, test_data_predictions)\n",
        "\n",
        "#print ('MSE:',mse ,'RMSE:', rmse, 'and MAE:', mae, 'and MAPE:', mape) \n",
        "# cross_val_score is a way to use the cross-validation in sklearn.\n",
        "# cross validation https://scikit-learn.org/stable/modules/cross_validation.html\n",
        "cross_validation_scores = cross_val_score(reg, X_train_scaled, y_train,\n",
        "                                          scoring=\"neg_mean_squared_error\", cv=10)\n",
        "rmse_scores = np.sqrt(-cross_validation_scores)\n",
        "train_score=reg.score(X_train_scaled,y_train)\n",
        "test_score=reg.score(X_test_scaled,y_test)\n",
        "algo=reg.__class__.__name__\n",
        "\n",
        "#display_scores(rmse_scores)"
      ],
      "metadata": {
        "colab": {
          "base_uri": "https://localhost:8080/"
        },
        "id": "s0eZ4kOgxitz",
        "outputId": "0c711d6e-2a45-43f5-91d6-6ecb287a1aef"
      },
      "execution_count": 425,
      "outputs": [
        {
          "output_type": "stream",
          "name": "stdout",
          "text": [
            "Algo     OutlierDrop     MSE      RMSE            MAE        MAPE       CV-Mean    CV-SD      train-score                    test-score                    \n",
            "True\n"
          ]
        }
      ]
    },
    {
      "cell_type": "code",
      "source": [
        "#Print Results\n",
        "print (\"{:<8} {:<15} {:<8} {:<15} {:<10} {:<10} {:<10} {:<10} {:<30} {:<30}\".format('Algo','OutlierDrop','MSE','RMSE','MAE','MAPE','CV-Mean', 'CV-SD','train-score', 'test-score'))\n",
        "\n",
        "print (\"{:<10} {:<10} {:<10} {:<10} {:<10} {:<10} {:<10} {:<10} {:<10} {:<10}\".format(algo, Outlier.drop, mse, rmse, mae, mape, rmse_scores.mean(),rmse_scores.std(), train_score, test_score))"
      ],
      "metadata": {
        "colab": {
          "base_uri": "https://localhost:8080/"
        },
        "id": "qH7xWa7fL7tH",
        "outputId": "5203eb06-a17d-45a6-fa15-cd7d07e4a59f"
      },
      "execution_count": 427,
      "outputs": [
        {
          "output_type": "stream",
          "name": "stdout",
          "text": [
            "Algo     OutlierDrop     MSE      RMSE            MAE        MAPE       CV-Mean    CV-SD      train-score                    test-score                    \n",
            "LinearRegression 1          0.06625171134877868 0.25739407792095503 0.20951442807061552 0.058295806139487684 0.28851988467165524 0.07992617152077239 0.32321335456196476 0.5944750953100664\n"
          ]
        }
      ]
    }
  ]
}
